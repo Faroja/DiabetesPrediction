{
 "cells": [
  {
   "cell_type": "code",
   "execution_count": 119,
   "metadata": {},
   "outputs": [],
   "source": [
    "import pandas as pd\n",
    "pd.set_option('display.max_columns', None)\n",
    "pd.set_option('display.width', None)\n",
    "pd.set_option('display.max_rows', 20)\n",
    "pd.set_option('display.float_format', lambda x: '%.1f' % x)"
   ]
  },
  {
   "cell_type": "code",
   "execution_count": 120,
   "metadata": {},
   "outputs": [],
   "source": [
    "import matplotlib as plt\n",
    "import seaborn as sns\n",
    "import numpy as np"
   ]
  },
  {
   "cell_type": "code",
   "execution_count": 121,
   "metadata": {},
   "outputs": [],
   "source": [
    "from sklearn.metrics import accuracy_score, precision_score, recall_score, f1_score, roc_auc_score\n",
    "from sklearn.model_selection import GridSearchCV, cross_validate\n",
    "from sklearn.model_selection import train_test_split\n",
    "from sklearn.preprocessing import LabelEncoder\n",
    "from sklearn.ensemble import RandomForestClassifier\n",
    "from sklearn.linear_model import LogisticRegression\n",
    "from sklearn.neighbors import KNeighborsClassifier\n",
    "from sklearn.svm import SVC\n",
    "from sklearn.tree import DecisionTreeClassifier\n",
    "from sklearn import tree\n",
    "from sklearn.ensemble import AdaBoostClassifier, GradientBoostingClassifier\n",
    "from sklearn.preprocessing import StandardScaler, RobustScaler\n",
    "from sklearn.impute import KNNImputer\n",
    "from xgboost import XGBClassifier\n",
    "from lightgbm import LGBMClassifier\n",
    "\n",
    "import warnings\n",
    "warnings.simplefilter(action=\"ignore\")"
   ]
  },
  {
   "cell_type": "code",
   "execution_count": 122,
   "metadata": {},
   "outputs": [],
   "source": [
    "df = pd.read_csv('diabetes.csv')\n",
    "df_raw = pd.read_csv('diabetes.csv')"
   ]
  },
  {
   "cell_type": "markdown",
   "metadata": {},
   "source": [
    "Dataset ini memiliki 768 baris dan 9 kolom, dengan tidak ada nilai yang hilang (missing values). Tapi, ada beberapa hal yang perlu diperhatikan:\n",
    "\n",
    "1. Nilai Nol di Kolom Medis\n",
    "Kolom seperti Glucose, BloodPressure, SkinThickness, Insulin, dan BMI memiliki nilai minimum 0, yang secara medis tidak masuk akal. Nilai-nilai ini kemungkinan besar adalah data yang hilang yang perlu ditangani.\n",
    "\n",
    "2. Distribusi Nilai Outlier\n",
    "Nilai maksimum pada kolom seperti Insulin (846) atau BMI (67.1) terlihat cukup tinggi dan mungkin perlu dicek apakah itu wajar."
   ]
  },
  {
   "cell_type": "code",
   "execution_count": 123,
   "metadata": {},
   "outputs": [],
   "source": [
    "# Define columns where 0 is considered as missing\n",
    "columns_with_zeros = ['Glucose', 'BloodPressure', 'SkinThickness', 'Insulin', 'BMI']\n",
    "\n",
    "# Replace zeros with NaN for imputation\n",
    "df = df.copy()\n",
    "for col in columns_with_zeros:\n",
    "    if col in df.columns:\n",
    "        df[col] = df[col].apply(lambda x: pd.NA if x == 0 else x)\n",
    "\n",
    "# Impute missing values with median for specified columns\n",
    "for col in columns_with_zeros:\n",
    "    if col in df.columns:\n",
    "        median_value = df[col].median(skipna=True)\n",
    "        df[col].fillna(median_value, inplace=True)"
   ]
  },
  {
   "cell_type": "code",
   "execution_count": 124,
   "metadata": {},
   "outputs": [],
   "source": [
    "# Define columns where 0 is considered as missing\n",
    "columns_with_zeros = ['Glucose', 'BloodPressure', 'SkinThickness', 'Insulin', 'BMI']\n",
    "\n",
    "# Replace zeros with NaN\n",
    "df[columns_with_zeros] = df[columns_with_zeros].replace(0, np.nan)\n",
    "\n",
    "# Initialize KNN Imputer\n",
    "knn_imputer = KNNImputer(n_neighbors=5, weights=\"uniform\")\n",
    "\n",
    "# Apply KNN Imputer only to columns with missing values\n",
    "data_imputed = df.copy()\n",
    "data_imputed[columns_with_zeros] = knn_imputer.fit_transform(df[columns_with_zeros])"
   ]
  },
  {
   "cell_type": "markdown",
   "metadata": {},
   "source": [
    "### **Base Model**"
   ]
  },
  {
   "cell_type": "code",
   "execution_count": 125,
   "metadata": {},
   "outputs": [],
   "source": [
    "# Creating the Dependent Variable.\n",
    "\n",
    "y = df[\"Outcome\"]\n",
    "\n",
    "# Creating Independent Variables.\n",
    "\n",
    "X = df.drop(\"Outcome\", axis=1)\n",
    "\n",
    "# Splitting the Data into Training and Test Sets\n",
    "\n",
    "X_train, X_test, y_train, y_test = train_test_split(X, y, test_size=0.30, random_state=30)"
   ]
  },
  {
   "cell_type": "code",
   "execution_count": 126,
   "metadata": {},
   "outputs": [
    {
     "name": "stdout",
     "output_type": "stream",
     "text": [
      "RandomForestClassifier:\n",
      "Accuracy: 0.7835\n",
      "Recall: 0.6528\n",
      "Precision: 0.6528\n",
      "F1: 0.6528\n",
      "Auc: 0.7478\n"
     ]
    }
   ],
   "source": [
    "# Random Forest Classifier Model Training\n",
    "\n",
    "rf_model = RandomForestClassifier(random_state=46).fit(X_train, y_train)\n",
    "\n",
    "# Prediction using Random Forest Classifier Model\n",
    "\n",
    "y_pred = rf_model.predict(X_test)\n",
    "\n",
    "print(\"RandomForestClassifier:\")\n",
    "print(f\"Accuracy: {round(accuracy_score(y_pred, y_test), 4)}\")\n",
    "print(f\"Recall: {round(recall_score(y_pred,y_test),4)}\")\n",
    "print(f\"Precision: {round(precision_score(y_pred,y_test), 4)}\")\n",
    "print(f\"F1: {round(f1_score(y_pred,y_test), 4)}\")\n",
    "print(f\"Auc: {round(roc_auc_score(y_pred,y_test), 4)}\")"
   ]
  },
  {
   "cell_type": "code",
   "execution_count": 127,
   "metadata": {},
   "outputs": [
    {
     "name": "stdout",
     "output_type": "stream",
     "text": [
      "Decision Tree Classifier:\n",
      "Accuracy: 0.7576\n",
      "Recall: 0.6\n",
      "Precision: 0.6667\n",
      "F1: 0.6316\n",
      "AUC: 0.7205\n"
     ]
    }
   ],
   "source": [
    "dt_model = DecisionTreeClassifier()\n",
    "dt_model.fit(X_train, y_train)\n",
    "dt_pred = dt_model.predict(X_test)\n",
    "\n",
    "print(\"Decision Tree Classifier:\")\n",
    "print(f\"Accuracy: {round(accuracy_score(dt_pred, y_test), 4)}\")\n",
    "print(f\"Recall: {round(recall_score(dt_pred, y_test), 4)}\")\n",
    "print(f\"Precision: {round(precision_score(dt_pred, y_test), 4)}\")\n",
    "print(f\"F1: {round(f1_score(dt_pred, y_test), 4)}\")\n",
    "print(f\"AUC: {round(roc_auc_score(dt_pred, y_test), 4)}\")"
   ]
  },
  {
   "cell_type": "code",
   "execution_count": 128,
   "metadata": {},
   "outputs": [
    {
     "name": "stdout",
     "output_type": "stream",
     "text": [
      "Logistic Regression:\n",
      "Accuracy: 0.8009\n",
      "Recall: 0.697\n",
      "Precision: 0.6389\n",
      "F1: 0.6667\n",
      "AUC: 0.7697\n"
     ]
    }
   ],
   "source": [
    "lr_model = LogisticRegression()\n",
    "lr_model.fit(X_train, y_train)\n",
    "lr_pred = lr_model.predict(X_test)\n",
    "\n",
    "print(\"Logistic Regression:\")\n",
    "print(f\"Accuracy: {round(accuracy_score(lr_pred, y_test), 4)}\")\n",
    "print(f\"Recall: {round(recall_score(lr_pred, y_test), 4)}\")\n",
    "print(f\"Precision: {round(precision_score(lr_pred, y_test), 4)}\")\n",
    "print(f\"F1: {round(f1_score(lr_pred, y_test), 4)}\")\n",
    "print(f\"AUC: {round(roc_auc_score(lr_pred, y_test), 4)}\")"
   ]
  },
  {
   "cell_type": "code",
   "execution_count": 129,
   "metadata": {},
   "outputs": [
    {
     "name": "stdout",
     "output_type": "stream",
     "text": [
      "K-Nearest Neighbors (KNN):\n",
      "Accuracy: 0.7359\n",
      "Recall: 0.5663\n",
      "Precision: 0.6528\n",
      "F1: 0.6065\n",
      "AUC: 0.6987\n"
     ]
    }
   ],
   "source": [
    "knn_model = KNeighborsClassifier()\n",
    "knn_model.fit(X_train, y_train)\n",
    "knn_pred = knn_model.predict(X_test)\n",
    "\n",
    "print(\"K-Nearest Neighbors (KNN):\")\n",
    "print(f\"Accuracy: {round(accuracy_score(knn_pred, y_test), 4)}\")\n",
    "print(f\"Recall: {round(recall_score(knn_pred, y_test), 4)}\")\n",
    "print(f\"Precision: {round(precision_score(knn_pred, y_test), 4)}\")\n",
    "print(f\"F1: {round(f1_score(knn_pred, y_test), 4)}\")\n",
    "print(f\"AUC: {round(roc_auc_score(knn_pred, y_test), 4)}\")"
   ]
  },
  {
   "cell_type": "markdown",
   "metadata": {},
   "source": [
    "### **Feature Engineering**"
   ]
  },
  {
   "cell_type": "code",
   "execution_count": 130,
   "metadata": {},
   "outputs": [],
   "source": [
    "df.loc[(df[\"Age\"] >= 21) & (df[\"Age\"] < 50), \"NEW_AGE_CAT\"] = \"mature\"\n",
    "df.loc[(df[\"Age\"] >= 50), \"NEW_AGE_CAT\"] = \"senior\""
   ]
  },
  {
   "cell_type": "code",
   "execution_count": 131,
   "metadata": {},
   "outputs": [],
   "source": [
    "# BMI below 18.5 is underweight, between 18.5 and 24.9 is normal, between 24.9 and 29.9 is overweight and above 30 is obese\n",
    "\n",
    "df['NEW_BMI'] = pd.cut(x=df['BMI'], bins=[0, 18.5, 24.9, 29.9, 100],labels=[\"Underweight\", \"Healthy\", \"Overweight\", \"Obese\"])"
   ]
  },
  {
   "cell_type": "code",
   "execution_count": 132,
   "metadata": {},
   "outputs": [],
   "source": [
    "# Converting Glucose Value to Categorical Variable\n",
    "\n",
    "df[\"NEW_GLUCOSE\"] = pd.cut(x=df[\"Glucose\"], bins=[0, 140, 200, 300], labels=[\"Normal\", \"Prediabetes\", \"Diabetes\"])"
   ]
  },
  {
   "cell_type": "code",
   "execution_count": 133,
   "metadata": {},
   "outputs": [],
   "source": [
    "# Creating a categorical variable by considering age and body mass index together 3 breakdowns were captured\n",
    "\n",
    "df.loc[(df[\"BMI\"] < 18.5) & ((df[\"Age\"] >= 21) & (df[\"Age\"] < 50)), \"NEW_AGE_BMI_NOM\"] = \"underweightmature\"\n",
    "df.loc[(df[\"BMI\"] < 18.5) & (df[\"Age\"] >= 50), \"NEW_AGE_BMI_NOM\"] = \"underweightsenior\"\n",
    "df.loc[((df[\"BMI\"] >= 18.5) & (df[\"BMI\"] < 25)) & ((df[\"Age\"] >= 21) & (df[\"Age\"] < 50)), \"NEW_AGE_BMI_NOM\"] = \"healthymature\"\n",
    "df.loc[((df[\"BMI\"] >= 18.5) & (df[\"BMI\"] < 25)) & (df[\"Age\"] >= 50), \"NEW_AGE_BMI_NOM\"] = \"healthysenior\"\n",
    "df.loc[((df[\"BMI\"] >= 25) & (df[\"BMI\"] < 30)) & ((df[\"Age\"] >= 21) & (df[\"Age\"] < 50)), \"NEW_AGE_BMI_NOM\"] = \"overweightmature\"\n",
    "df.loc[((df[\"BMI\"] >= 25) & (df[\"BMI\"] < 30)) & (df[\"Age\"] >= 50), \"NEW_AGE_BMI_NOM\"] = \"overweightsenior\"\n",
    "df.loc[(df[\"BMI\"] > 18.5) & ((df[\"Age\"] >= 21) & (df[\"Age\"] < 50)), \"NEW_AGE_BMI_NOM\"] = \"obesemature\"\n",
    "df.loc[(df[\"BMI\"] > 18.5) & (df[\"Age\"] >= 50), \"NEW_AGE_BMI_NOM\"] = \"obesesenior\""
   ]
  },
  {
   "cell_type": "code",
   "execution_count": 134,
   "metadata": {},
   "outputs": [],
   "source": [
    "# Creating a categorical variable by considering age and glucose values together\n",
    "\n",
    "df.loc[(df[\"Glucose\"] < 70) & ((df[\"Age\"] >= 21) & (df[\"Age\"] < 50)), \"NEW_AGE_GLUCOSE_NOM\"] = \"lowmature\"\n",
    "df.loc[(df[\"Glucose\"] < 70) & (df[\"Age\"] >= 50), \"NEW_AGE_GLUCOSE_NOM\"] = \"lowsenior\"\n",
    "df.loc[((df[\"Glucose\"] >= 70) & (df[\"Glucose\"] < 100)) & ((df[\"Age\"] >= 21) & (df[\"Age\"] < 50)), \"NEW_AGE_GLUCOSE_NOM\"] = \"normalmature\"\n",
    "df.loc[((df[\"Glucose\"] >= 70) & (df[\"Glucose\"] < 100)) & (df[\"Age\"] >= 50), \"NEW_AGE_GLUCOSE_NOM\"] = \"normalsenior\"\n",
    "df.loc[((df[\"Glucose\"] >= 100) & (df[\"Glucose\"] <= 125)) & ((df[\"Age\"] >= 21) & (df[\"Age\"] < 50)), \"NEW_AGE_GLUCOSE_NOM\"] = \"hiddenmature\"\n",
    "df.loc[((df[\"Glucose\"] >= 100) & (df[\"Glucose\"] <= 125)) & (df[\"Age\"] >= 50), \"NEW_AGE_GLUCOSE_NOM\"] = \"hiddensenior\"\n",
    "df.loc[(df[\"Glucose\"] > 125) & ((df[\"Age\"] >= 21) & (df[\"Age\"] < 50)), \"NEW_AGE_GLUCOSE_NOM\"] = \"highmature\"\n",
    "df.loc[(df[\"Glucose\"] > 125) & (df[\"Age\"] >= 50), \"NEW_AGE_GLUCOSE_NOM\"] = \"highsenior\""
   ]
  },
  {
   "cell_type": "code",
   "execution_count": 135,
   "metadata": {},
   "outputs": [],
   "source": [
    "# Deriving a Categorical variable with Insulin Value.\n",
    "\n",
    "def set_insulin(dataframe, col_name=\"Insulin\"):\n",
    "    if 16 <= dataframe[col_name] <= 166:\n",
    "        return\n",
    "    else:\n",
    "        return \"Abnormal\"\n",
    "\n",
    "df[\"NEW_INSULIN_SCORE\"] = df.apply(set_insulin, axis=1)\n",
    "df[\"NEW_GLUCOSE * INSULIN\"] =df[\"Glucose\"] * df[\"Insulin\"]"
   ]
  },
  {
   "cell_type": "code",
   "execution_count": 136,
   "metadata": {},
   "outputs": [],
   "source": [
    "# Attention to values with zero !!!\n",
    "\n",
    "df[\"NEW_GLUCOSE * PREGNANCIES\"] = df[\"Glucose\"] * df[\"Pregnancies\"]"
   ]
  },
  {
   "cell_type": "code",
   "execution_count": 137,
   "metadata": {},
   "outputs": [],
   "source": [
    "# Translating Column Names to Uppercase Letters.\n",
    "\n",
    "df.columns = [col.upper() for col in df.columns]"
   ]
  },
  {
   "cell_type": "code",
   "execution_count": 138,
   "metadata": {},
   "outputs": [],
   "source": [
    "# Analysis of Variables.\n",
    "\n",
    "def grab_col_names(dataframe, cat_th=10, car_th=20):\n",
    "    \"\"\"\n",
    "\n",
    "    Returns the names of categorical, numeric and categorical but cardinal variables in the data set.\n",
    "    Note Categorical variables include categorical variables with numeric appearance.\n",
    "\n",
    "    Parameters\n",
    "    ------\n",
    "        dataframe: dataframe\n",
    "                Variable names of the dataframe to be taken\n",
    "        cat_th: int, optional\n",
    "                class threshold for numeric but categorical variables\n",
    "        car_th: int, optinal\n",
    "                class threshold for categorical but cardinal variables\n",
    "\n",
    "    Returns\n",
    "    ------\n",
    "        cat_cols: list\n",
    "                Categorical variable list\n",
    "        num_cols: list\n",
    "                Numeric variable list\n",
    "        cat_but_car: list\n",
    "                List of cardinal variables with categorical appearance\n",
    "\n",
    "    Examples\n",
    "    ------\n",
    "        import seaborn as sns\n",
    "        df = sns.load_dataset(\"iris\")\n",
    "        print(grab_col_names(df))\n",
    "\n",
    "\n",
    "    Notes\n",
    "    ------\n",
    "        cat_cols + num_cols + cat_but_car = total number of variables\n",
    "        num_but_cat is inside cat_cols.\n",
    "        The sum of the 3 return lists equals the total number of variables: cat_cols + num_cols + cat_but_car = number of variables\n",
    "\n",
    "    \"\"\"\n",
    "\n",
    "    # cat_cols, cat_but_car\n",
    "    cat_cols = [col for col in dataframe.columns if dataframe[col].dtypes == \"O\"] \n",
    "\n",
    "    num_but_cat = [col for col in dataframe.columns if dataframe[col].nunique() < cat_th and\n",
    "                   dataframe[col].dtypes != \"O\"]\n",
    "\n",
    "    cat_but_car = [col for col in dataframe.columns if dataframe[col].nunique() > car_th and\n",
    "                   dataframe[col].dtypes == \"O\"]\n",
    "\n",
    "    cat_cols = cat_cols + num_but_cat\n",
    "\n",
    "    cat_cols = [col for col in cat_cols if col not in cat_but_car] \n",
    "\n",
    "    num_cols = [col for col in dataframe.columns if dataframe[col].dtypes != \"O\"] \n",
    "\n",
    "    num_cols = [col for col in num_cols if col not in num_but_cat] \n",
    "    \n",
    "    print(f\"Observations: {dataframe.shape[0]}\") # data frame in içerisindeki gözlem sayısına eriştik.\n",
    "    print(f\"Variables: {dataframe.shape[1]}\") # data frame in içerisindeki değişken sayısına eriştik.\n",
    "    print(f'cat_cols: {len(cat_cols)}') # kaçtane kategorik değişken olduğunu tespit ettik.\n",
    "    print(f'num_cols: {len(num_cols)}') # kaç tane nümerik değişken olduğunu tespit ettik.\n",
    "    print(f'cat_but_car: {len(cat_but_car)}') # kaç tane kardinal değişken olduğunu tespit ettik.\n",
    "    print(f'num_but_cat: {len(num_but_cat)}') # kaç tane numerik gibi görünüp kategorik olan değişken olduğunu belirledi\n",
    "\n",
    "\n",
    "    return cat_cols, num_cols, cat_but_car, num_but_cat"
   ]
  },
  {
   "cell_type": "code",
   "execution_count": 139,
   "metadata": {},
   "outputs": [
    {
     "name": "stdout",
     "output_type": "stream",
     "text": [
      "Observations: 768\n",
      "Variables: 17\n",
      "cat_cols: 7\n",
      "num_cols: 10\n",
      "cat_but_car: 0\n",
      "num_but_cat: 3\n"
     ]
    }
   ],
   "source": [
    "cat_cols, num_cols, cat_but_car,  num_but_cat = grab_col_names(df)"
   ]
  },
  {
   "cell_type": "code",
   "execution_count": 140,
   "metadata": {},
   "outputs": [
    {
     "data": {
      "text/plain": [
       "['NEW_AGE_CAT',\n",
       " 'NEW_AGE_BMI_NOM',\n",
       " 'NEW_AGE_GLUCOSE_NOM',\n",
       " 'NEW_INSULIN_SCORE',\n",
       " 'OUTCOME',\n",
       " 'NEW_BMI',\n",
       " 'NEW_GLUCOSE']"
      ]
     },
     "execution_count": 140,
     "metadata": {},
     "output_type": "execute_result"
    }
   ],
   "source": [
    "cat_cols"
   ]
  },
  {
   "cell_type": "code",
   "execution_count": 141,
   "metadata": {},
   "outputs": [
    {
     "data": {
      "text/plain": [
       "['PREGNANCIES',\n",
       " 'GLUCOSE',\n",
       " 'BLOODPRESSURE',\n",
       " 'SKINTHICKNESS',\n",
       " 'INSULIN',\n",
       " 'BMI',\n",
       " 'DIABETESPEDIGREEFUNCTION',\n",
       " 'AGE',\n",
       " 'NEW_GLUCOSE * INSULIN',\n",
       " 'NEW_GLUCOSE * PREGNANCIES']"
      ]
     },
     "execution_count": 141,
     "metadata": {},
     "output_type": "execute_result"
    }
   ],
   "source": [
    "num_cols"
   ]
  },
  {
   "cell_type": "code",
   "execution_count": 142,
   "metadata": {},
   "outputs": [
    {
     "data": {
      "text/plain": [
       "[]"
      ]
     },
     "execution_count": 142,
     "metadata": {},
     "output_type": "execute_result"
    }
   ],
   "source": [
    "cat_but_car"
   ]
  },
  {
   "cell_type": "code",
   "execution_count": 143,
   "metadata": {},
   "outputs": [
    {
     "data": {
      "text/plain": [
       "['OUTCOME', 'NEW_BMI', 'NEW_GLUCOSE']"
      ]
     },
     "execution_count": 143,
     "metadata": {},
     "output_type": "execute_result"
    }
   ],
   "source": [
    "num_but_cat"
   ]
  },
  {
   "cell_type": "markdown",
   "metadata": {},
   "source": [
    "### **Encoding**"
   ]
  },
  {
   "cell_type": "code",
   "execution_count": 144,
   "metadata": {},
   "outputs": [],
   "source": [
    "def label_encoder(dataframe, binary_col):\n",
    "    labelencoder = LabelEncoder()\n",
    "    dataframe[binary_col] = labelencoder.fit_transform(dataframe[binary_col])\n",
    "    return dataframe"
   ]
  },
  {
   "cell_type": "code",
   "execution_count": 145,
   "metadata": {},
   "outputs": [],
   "source": [
    "binary_cols = [col for col in df.columns if df[col].dtypes == \"O\" and df[col].nunique() == 2]"
   ]
  },
  {
   "cell_type": "code",
   "execution_count": 146,
   "metadata": {},
   "outputs": [
    {
     "data": {
      "text/plain": [
       "['NEW_AGE_CAT']"
      ]
     },
     "execution_count": 146,
     "metadata": {},
     "output_type": "execute_result"
    }
   ],
   "source": [
    "binary_cols"
   ]
  },
  {
   "cell_type": "code",
   "execution_count": 147,
   "metadata": {},
   "outputs": [],
   "source": [
    "for col in binary_cols:\n",
    "    df = label_encoder(df, col)"
   ]
  },
  {
   "cell_type": "code",
   "execution_count": 148,
   "metadata": {},
   "outputs": [
    {
     "data": {
      "text/html": [
       "<div>\n",
       "<style scoped>\n",
       "    .dataframe tbody tr th:only-of-type {\n",
       "        vertical-align: middle;\n",
       "    }\n",
       "\n",
       "    .dataframe tbody tr th {\n",
       "        vertical-align: top;\n",
       "    }\n",
       "\n",
       "    .dataframe thead th {\n",
       "        text-align: right;\n",
       "    }\n",
       "</style>\n",
       "<table border=\"1\" class=\"dataframe\">\n",
       "  <thead>\n",
       "    <tr style=\"text-align: right;\">\n",
       "      <th></th>\n",
       "      <th>PREGNANCIES</th>\n",
       "      <th>GLUCOSE</th>\n",
       "      <th>BLOODPRESSURE</th>\n",
       "      <th>SKINTHICKNESS</th>\n",
       "      <th>INSULIN</th>\n",
       "      <th>BMI</th>\n",
       "      <th>DIABETESPEDIGREEFUNCTION</th>\n",
       "      <th>AGE</th>\n",
       "      <th>OUTCOME</th>\n",
       "      <th>NEW_AGE_CAT</th>\n",
       "      <th>NEW_BMI</th>\n",
       "      <th>NEW_GLUCOSE</th>\n",
       "      <th>NEW_AGE_BMI_NOM</th>\n",
       "      <th>NEW_AGE_GLUCOSE_NOM</th>\n",
       "      <th>NEW_INSULIN_SCORE</th>\n",
       "      <th>NEW_GLUCOSE * INSULIN</th>\n",
       "      <th>NEW_GLUCOSE * PREGNANCIES</th>\n",
       "    </tr>\n",
       "  </thead>\n",
       "  <tbody>\n",
       "    <tr>\n",
       "      <th>0</th>\n",
       "      <td>6</td>\n",
       "      <td>148.0</td>\n",
       "      <td>72.0</td>\n",
       "      <td>35.0</td>\n",
       "      <td>125.0</td>\n",
       "      <td>33.6</td>\n",
       "      <td>0.6</td>\n",
       "      <td>50</td>\n",
       "      <td>1</td>\n",
       "      <td>1</td>\n",
       "      <td>Obese</td>\n",
       "      <td>Prediabetes</td>\n",
       "      <td>obesesenior</td>\n",
       "      <td>highsenior</td>\n",
       "      <td>None</td>\n",
       "      <td>18500.0</td>\n",
       "      <td>888.0</td>\n",
       "    </tr>\n",
       "    <tr>\n",
       "      <th>1</th>\n",
       "      <td>1</td>\n",
       "      <td>85.0</td>\n",
       "      <td>66.0</td>\n",
       "      <td>29.0</td>\n",
       "      <td>125.0</td>\n",
       "      <td>26.6</td>\n",
       "      <td>0.4</td>\n",
       "      <td>31</td>\n",
       "      <td>0</td>\n",
       "      <td>0</td>\n",
       "      <td>Overweight</td>\n",
       "      <td>Normal</td>\n",
       "      <td>obesemature</td>\n",
       "      <td>normalmature</td>\n",
       "      <td>None</td>\n",
       "      <td>10625.0</td>\n",
       "      <td>85.0</td>\n",
       "    </tr>\n",
       "    <tr>\n",
       "      <th>2</th>\n",
       "      <td>8</td>\n",
       "      <td>183.0</td>\n",
       "      <td>64.0</td>\n",
       "      <td>29.0</td>\n",
       "      <td>125.0</td>\n",
       "      <td>23.3</td>\n",
       "      <td>0.7</td>\n",
       "      <td>32</td>\n",
       "      <td>1</td>\n",
       "      <td>0</td>\n",
       "      <td>Healthy</td>\n",
       "      <td>Prediabetes</td>\n",
       "      <td>obesemature</td>\n",
       "      <td>highmature</td>\n",
       "      <td>None</td>\n",
       "      <td>22875.0</td>\n",
       "      <td>1464.0</td>\n",
       "    </tr>\n",
       "    <tr>\n",
       "      <th>3</th>\n",
       "      <td>1</td>\n",
       "      <td>89.0</td>\n",
       "      <td>66.0</td>\n",
       "      <td>23.0</td>\n",
       "      <td>94.0</td>\n",
       "      <td>28.1</td>\n",
       "      <td>0.2</td>\n",
       "      <td>21</td>\n",
       "      <td>0</td>\n",
       "      <td>0</td>\n",
       "      <td>Overweight</td>\n",
       "      <td>Normal</td>\n",
       "      <td>obesemature</td>\n",
       "      <td>normalmature</td>\n",
       "      <td>None</td>\n",
       "      <td>8366.0</td>\n",
       "      <td>89.0</td>\n",
       "    </tr>\n",
       "    <tr>\n",
       "      <th>4</th>\n",
       "      <td>0</td>\n",
       "      <td>137.0</td>\n",
       "      <td>40.0</td>\n",
       "      <td>35.0</td>\n",
       "      <td>168.0</td>\n",
       "      <td>43.1</td>\n",
       "      <td>2.3</td>\n",
       "      <td>33</td>\n",
       "      <td>1</td>\n",
       "      <td>0</td>\n",
       "      <td>Obese</td>\n",
       "      <td>Normal</td>\n",
       "      <td>obesemature</td>\n",
       "      <td>highmature</td>\n",
       "      <td>Abnormal</td>\n",
       "      <td>23016.0</td>\n",
       "      <td>0.0</td>\n",
       "    </tr>\n",
       "  </tbody>\n",
       "</table>\n",
       "</div>"
      ],
      "text/plain": [
       "   PREGNANCIES  GLUCOSE  BLOODPRESSURE  SKINTHICKNESS  INSULIN  BMI  \\\n",
       "0            6    148.0           72.0           35.0    125.0 33.6   \n",
       "1            1     85.0           66.0           29.0    125.0 26.6   \n",
       "2            8    183.0           64.0           29.0    125.0 23.3   \n",
       "3            1     89.0           66.0           23.0     94.0 28.1   \n",
       "4            0    137.0           40.0           35.0    168.0 43.1   \n",
       "\n",
       "   DIABETESPEDIGREEFUNCTION  AGE  OUTCOME  NEW_AGE_CAT     NEW_BMI  \\\n",
       "0                       0.6   50        1            1       Obese   \n",
       "1                       0.4   31        0            0  Overweight   \n",
       "2                       0.7   32        1            0     Healthy   \n",
       "3                       0.2   21        0            0  Overweight   \n",
       "4                       2.3   33        1            0       Obese   \n",
       "\n",
       "   NEW_GLUCOSE NEW_AGE_BMI_NOM NEW_AGE_GLUCOSE_NOM NEW_INSULIN_SCORE  \\\n",
       "0  Prediabetes     obesesenior          highsenior              None   \n",
       "1       Normal     obesemature        normalmature              None   \n",
       "2  Prediabetes     obesemature          highmature              None   \n",
       "3       Normal     obesemature        normalmature              None   \n",
       "4       Normal     obesemature          highmature          Abnormal   \n",
       "\n",
       "   NEW_GLUCOSE * INSULIN  NEW_GLUCOSE * PREGNANCIES  \n",
       "0                18500.0                      888.0  \n",
       "1                10625.0                       85.0  \n",
       "2                22875.0                     1464.0  \n",
       "3                 8366.0                       89.0  \n",
       "4                23016.0                        0.0  "
      ]
     },
     "execution_count": 148,
     "metadata": {},
     "output_type": "execute_result"
    }
   ],
   "source": [
    "df.head(5)"
   ]
  },
  {
   "cell_type": "code",
   "execution_count": 149,
   "metadata": {},
   "outputs": [],
   "source": [
    "# One-Hot Encoding\n",
    "cat_cols = [col for col in cat_cols if col not in binary_cols and col not in [\"OUTCOME\"]]"
   ]
  },
  {
   "cell_type": "code",
   "execution_count": 150,
   "metadata": {},
   "outputs": [
    {
     "data": {
      "text/plain": [
       "['NEW_AGE_BMI_NOM',\n",
       " 'NEW_AGE_GLUCOSE_NOM',\n",
       " 'NEW_INSULIN_SCORE',\n",
       " 'NEW_BMI',\n",
       " 'NEW_GLUCOSE']"
      ]
     },
     "execution_count": 150,
     "metadata": {},
     "output_type": "execute_result"
    }
   ],
   "source": [
    "cat_cols"
   ]
  },
  {
   "cell_type": "code",
   "execution_count": 151,
   "metadata": {},
   "outputs": [],
   "source": [
    "def one_hot_encoder(dataframe, categorical_cols, drop_first=False):\n",
    "    dataframe = pd.get_dummies(dataframe, columns=categorical_cols, drop_first=drop_first)\n",
    "    return dataframe"
   ]
  },
  {
   "cell_type": "code",
   "execution_count": 152,
   "metadata": {},
   "outputs": [],
   "source": [
    "df = one_hot_encoder(df, cat_cols, drop_first=True)"
   ]
  },
  {
   "cell_type": "code",
   "execution_count": 153,
   "metadata": {},
   "outputs": [
    {
     "data": {
      "text/html": [
       "<div>\n",
       "<style scoped>\n",
       "    .dataframe tbody tr th:only-of-type {\n",
       "        vertical-align: middle;\n",
       "    }\n",
       "\n",
       "    .dataframe tbody tr th {\n",
       "        vertical-align: top;\n",
       "    }\n",
       "\n",
       "    .dataframe thead th {\n",
       "        text-align: right;\n",
       "    }\n",
       "</style>\n",
       "<table border=\"1\" class=\"dataframe\">\n",
       "  <thead>\n",
       "    <tr style=\"text-align: right;\">\n",
       "      <th></th>\n",
       "      <th>PREGNANCIES</th>\n",
       "      <th>GLUCOSE</th>\n",
       "      <th>BLOODPRESSURE</th>\n",
       "      <th>SKINTHICKNESS</th>\n",
       "      <th>INSULIN</th>\n",
       "      <th>BMI</th>\n",
       "      <th>DIABETESPEDIGREEFUNCTION</th>\n",
       "      <th>AGE</th>\n",
       "      <th>OUTCOME</th>\n",
       "      <th>NEW_AGE_CAT</th>\n",
       "      <th>NEW_GLUCOSE * INSULIN</th>\n",
       "      <th>NEW_GLUCOSE * PREGNANCIES</th>\n",
       "      <th>NEW_AGE_BMI_NOM_obesesenior</th>\n",
       "      <th>NEW_AGE_BMI_NOM_underweightmature</th>\n",
       "      <th>NEW_AGE_GLUCOSE_NOM_hiddensenior</th>\n",
       "      <th>NEW_AGE_GLUCOSE_NOM_highmature</th>\n",
       "      <th>NEW_AGE_GLUCOSE_NOM_highsenior</th>\n",
       "      <th>NEW_AGE_GLUCOSE_NOM_lowmature</th>\n",
       "      <th>NEW_AGE_GLUCOSE_NOM_lowsenior</th>\n",
       "      <th>NEW_AGE_GLUCOSE_NOM_normalmature</th>\n",
       "      <th>NEW_AGE_GLUCOSE_NOM_normalsenior</th>\n",
       "      <th>NEW_BMI_Healthy</th>\n",
       "      <th>NEW_BMI_Overweight</th>\n",
       "      <th>NEW_BMI_Obese</th>\n",
       "      <th>NEW_GLUCOSE_Prediabetes</th>\n",
       "      <th>NEW_GLUCOSE_Diabetes</th>\n",
       "    </tr>\n",
       "  </thead>\n",
       "  <tbody>\n",
       "    <tr>\n",
       "      <th>0</th>\n",
       "      <td>6</td>\n",
       "      <td>148.0</td>\n",
       "      <td>72.0</td>\n",
       "      <td>35.0</td>\n",
       "      <td>125.0</td>\n",
       "      <td>33.6</td>\n",
       "      <td>0.6</td>\n",
       "      <td>50</td>\n",
       "      <td>1</td>\n",
       "      <td>1</td>\n",
       "      <td>18500.0</td>\n",
       "      <td>888.0</td>\n",
       "      <td>1</td>\n",
       "      <td>0</td>\n",
       "      <td>0</td>\n",
       "      <td>0</td>\n",
       "      <td>1</td>\n",
       "      <td>0</td>\n",
       "      <td>0</td>\n",
       "      <td>0</td>\n",
       "      <td>0</td>\n",
       "      <td>0</td>\n",
       "      <td>0</td>\n",
       "      <td>1</td>\n",
       "      <td>1</td>\n",
       "      <td>0</td>\n",
       "    </tr>\n",
       "    <tr>\n",
       "      <th>1</th>\n",
       "      <td>1</td>\n",
       "      <td>85.0</td>\n",
       "      <td>66.0</td>\n",
       "      <td>29.0</td>\n",
       "      <td>125.0</td>\n",
       "      <td>26.6</td>\n",
       "      <td>0.4</td>\n",
       "      <td>31</td>\n",
       "      <td>0</td>\n",
       "      <td>0</td>\n",
       "      <td>10625.0</td>\n",
       "      <td>85.0</td>\n",
       "      <td>0</td>\n",
       "      <td>0</td>\n",
       "      <td>0</td>\n",
       "      <td>0</td>\n",
       "      <td>0</td>\n",
       "      <td>0</td>\n",
       "      <td>0</td>\n",
       "      <td>1</td>\n",
       "      <td>0</td>\n",
       "      <td>0</td>\n",
       "      <td>1</td>\n",
       "      <td>0</td>\n",
       "      <td>0</td>\n",
       "      <td>0</td>\n",
       "    </tr>\n",
       "    <tr>\n",
       "      <th>2</th>\n",
       "      <td>8</td>\n",
       "      <td>183.0</td>\n",
       "      <td>64.0</td>\n",
       "      <td>29.0</td>\n",
       "      <td>125.0</td>\n",
       "      <td>23.3</td>\n",
       "      <td>0.7</td>\n",
       "      <td>32</td>\n",
       "      <td>1</td>\n",
       "      <td>0</td>\n",
       "      <td>22875.0</td>\n",
       "      <td>1464.0</td>\n",
       "      <td>0</td>\n",
       "      <td>0</td>\n",
       "      <td>0</td>\n",
       "      <td>1</td>\n",
       "      <td>0</td>\n",
       "      <td>0</td>\n",
       "      <td>0</td>\n",
       "      <td>0</td>\n",
       "      <td>0</td>\n",
       "      <td>1</td>\n",
       "      <td>0</td>\n",
       "      <td>0</td>\n",
       "      <td>1</td>\n",
       "      <td>0</td>\n",
       "    </tr>\n",
       "    <tr>\n",
       "      <th>3</th>\n",
       "      <td>1</td>\n",
       "      <td>89.0</td>\n",
       "      <td>66.0</td>\n",
       "      <td>23.0</td>\n",
       "      <td>94.0</td>\n",
       "      <td>28.1</td>\n",
       "      <td>0.2</td>\n",
       "      <td>21</td>\n",
       "      <td>0</td>\n",
       "      <td>0</td>\n",
       "      <td>8366.0</td>\n",
       "      <td>89.0</td>\n",
       "      <td>0</td>\n",
       "      <td>0</td>\n",
       "      <td>0</td>\n",
       "      <td>0</td>\n",
       "      <td>0</td>\n",
       "      <td>0</td>\n",
       "      <td>0</td>\n",
       "      <td>1</td>\n",
       "      <td>0</td>\n",
       "      <td>0</td>\n",
       "      <td>1</td>\n",
       "      <td>0</td>\n",
       "      <td>0</td>\n",
       "      <td>0</td>\n",
       "    </tr>\n",
       "    <tr>\n",
       "      <th>4</th>\n",
       "      <td>0</td>\n",
       "      <td>137.0</td>\n",
       "      <td>40.0</td>\n",
       "      <td>35.0</td>\n",
       "      <td>168.0</td>\n",
       "      <td>43.1</td>\n",
       "      <td>2.3</td>\n",
       "      <td>33</td>\n",
       "      <td>1</td>\n",
       "      <td>0</td>\n",
       "      <td>23016.0</td>\n",
       "      <td>0.0</td>\n",
       "      <td>0</td>\n",
       "      <td>0</td>\n",
       "      <td>0</td>\n",
       "      <td>1</td>\n",
       "      <td>0</td>\n",
       "      <td>0</td>\n",
       "      <td>0</td>\n",
       "      <td>0</td>\n",
       "      <td>0</td>\n",
       "      <td>0</td>\n",
       "      <td>0</td>\n",
       "      <td>1</td>\n",
       "      <td>0</td>\n",
       "      <td>0</td>\n",
       "    </tr>\n",
       "  </tbody>\n",
       "</table>\n",
       "</div>"
      ],
      "text/plain": [
       "   PREGNANCIES  GLUCOSE  BLOODPRESSURE  SKINTHICKNESS  INSULIN  BMI  \\\n",
       "0            6    148.0           72.0           35.0    125.0 33.6   \n",
       "1            1     85.0           66.0           29.0    125.0 26.6   \n",
       "2            8    183.0           64.0           29.0    125.0 23.3   \n",
       "3            1     89.0           66.0           23.0     94.0 28.1   \n",
       "4            0    137.0           40.0           35.0    168.0 43.1   \n",
       "\n",
       "   DIABETESPEDIGREEFUNCTION  AGE  OUTCOME  NEW_AGE_CAT  NEW_GLUCOSE * INSULIN  \\\n",
       "0                       0.6   50        1            1                18500.0   \n",
       "1                       0.4   31        0            0                10625.0   \n",
       "2                       0.7   32        1            0                22875.0   \n",
       "3                       0.2   21        0            0                 8366.0   \n",
       "4                       2.3   33        1            0                23016.0   \n",
       "\n",
       "   NEW_GLUCOSE * PREGNANCIES  NEW_AGE_BMI_NOM_obesesenior  \\\n",
       "0                      888.0                            1   \n",
       "1                       85.0                            0   \n",
       "2                     1464.0                            0   \n",
       "3                       89.0                            0   \n",
       "4                        0.0                            0   \n",
       "\n",
       "   NEW_AGE_BMI_NOM_underweightmature  NEW_AGE_GLUCOSE_NOM_hiddensenior  \\\n",
       "0                                  0                                 0   \n",
       "1                                  0                                 0   \n",
       "2                                  0                                 0   \n",
       "3                                  0                                 0   \n",
       "4                                  0                                 0   \n",
       "\n",
       "   NEW_AGE_GLUCOSE_NOM_highmature  NEW_AGE_GLUCOSE_NOM_highsenior  \\\n",
       "0                               0                               1   \n",
       "1                               0                               0   \n",
       "2                               1                               0   \n",
       "3                               0                               0   \n",
       "4                               1                               0   \n",
       "\n",
       "   NEW_AGE_GLUCOSE_NOM_lowmature  NEW_AGE_GLUCOSE_NOM_lowsenior  \\\n",
       "0                              0                              0   \n",
       "1                              0                              0   \n",
       "2                              0                              0   \n",
       "3                              0                              0   \n",
       "4                              0                              0   \n",
       "\n",
       "   NEW_AGE_GLUCOSE_NOM_normalmature  NEW_AGE_GLUCOSE_NOM_normalsenior  \\\n",
       "0                                 0                                 0   \n",
       "1                                 1                                 0   \n",
       "2                                 0                                 0   \n",
       "3                                 1                                 0   \n",
       "4                                 0                                 0   \n",
       "\n",
       "   NEW_BMI_Healthy  NEW_BMI_Overweight  NEW_BMI_Obese  \\\n",
       "0                0                   0              1   \n",
       "1                0                   1              0   \n",
       "2                1                   0              0   \n",
       "3                0                   1              0   \n",
       "4                0                   0              1   \n",
       "\n",
       "   NEW_GLUCOSE_Prediabetes  NEW_GLUCOSE_Diabetes  \n",
       "0                        1                     0  \n",
       "1                        0                     0  \n",
       "2                        1                     0  \n",
       "3                        0                     0  \n",
       "4                        0                     0  "
      ]
     },
     "execution_count": 153,
     "metadata": {},
     "output_type": "execute_result"
    }
   ],
   "source": [
    "df.head(5)"
   ]
  },
  {
   "cell_type": "markdown",
   "metadata": {},
   "source": [
    "### **Modeling Again**"
   ]
  },
  {
   "cell_type": "code",
   "execution_count": 158,
   "metadata": {},
   "outputs": [
    {
     "name": "stdout",
     "output_type": "stream",
     "text": [
      "Best Random Forest Parameters: {'model__class_weight': 'balanced', 'model__max_depth': None, 'model__max_features': 'auto', 'model__min_samples_leaf': 2, 'model__min_samples_split': 2, 'model__n_estimators': 100}\n",
      "Best XGBoost Parameters: {'model__colsample_bytree': 0.9, 'model__learning_rate': 0.1, 'model__max_depth': 5, 'model__n_estimators': 100, 'model__subsample': 0.8}\n",
      "Voting Classifier Classification Report (adjusted threshold):\n",
      "               precision    recall  f1-score   support\n",
      "\n",
      "           0       0.88      0.69      0.77       150\n",
      "           1       0.59      0.83      0.69        81\n",
      "\n",
      "    accuracy                           0.74       231\n",
      "   macro avg       0.73      0.76      0.73       231\n",
      "weighted avg       0.78      0.74      0.74       231\n",
      "\n",
      "Random Forest Classification Report (adjusted threshold):\n",
      "               precision    recall  f1-score   support\n",
      "\n",
      "           0       0.88      0.65      0.75       150\n",
      "           1       0.57      0.84      0.68        81\n",
      "\n",
      "    accuracy                           0.72       231\n",
      "   macro avg       0.72      0.75      0.71       231\n",
      "weighted avg       0.77      0.72      0.72       231\n",
      "\n",
      "XGBoost Classification Report (adjusted threshold):\n",
      "               precision    recall  f1-score   support\n",
      "\n",
      "           0       0.87      0.69      0.77       150\n",
      "           1       0.59      0.81      0.68        81\n",
      "\n",
      "    accuracy                           0.74       231\n",
      "   macro avg       0.73      0.75      0.73       231\n",
      "weighted avg       0.77      0.74      0.74       231\n",
      "\n"
     ]
    }
   ],
   "source": [
    "import pandas as pd\n",
    "import numpy as np\n",
    "from sklearn.model_selection import train_test_split, GridSearchCV\n",
    "from sklearn.ensemble import RandomForestClassifier, VotingClassifier\n",
    "from sklearn.pipeline import Pipeline\n",
    "from sklearn.preprocessing import StandardScaler\n",
    "from sklearn.impute import KNNImputer\n",
    "from sklearn.metrics import classification_report\n",
    "import xgboost as xgb\n",
    "from imblearn.over_sampling import BorderlineSMOTE\n",
    "\n",
    "# Assuming your dataset is already loaded as `df`\n",
    "\n",
    "# Creating the Dependent Variable\n",
    "y = df[\"OUTCOME\"]\n",
    "\n",
    "# Creating Independent Variables\n",
    "X = df.drop(\"OUTCOME\", axis=1)\n",
    "\n",
    "# Splitting the Data into Training and Test Sets\n",
    "X_train, X_test, y_train, y_test = train_test_split(X, y, test_size=0.30, random_state=17)\n",
    "\n",
    "# Apply Borderline-SMOTE to balance the dataset\n",
    "smote = BorderlineSMOTE(random_state=17)\n",
    "X_resampled, y_resampled = smote.fit_resample(X_train, y_train)\n",
    "\n",
    "# Building the pipeline with RandomForestClassifier and XGBoost\n",
    "pipeline_rf = Pipeline([\n",
    "    ('imputer', KNNImputer(n_neighbors=5)),          # Handling missing values\n",
    "    ('scaler', StandardScaler()),                   # Standardizing features\n",
    "    ('model', RandomForestClassifier(random_state=17, class_weight='balanced'))  # Random Forest Classifier with class balancing\n",
    "])\n",
    "\n",
    "# Hyperparameter grid for Random Forest\n",
    "param_grid_rf = {\n",
    "    'model__n_estimators': [100, 200], \n",
    "    'model__max_depth': [None, 10, 20], \n",
    "    'model__min_samples_split': [2, 5], \n",
    "    'model__min_samples_leaf': [1, 2],\n",
    "    'model__max_features': ['auto', 'sqrt'],\n",
    "    'model__class_weight': ['balanced', None]\n",
    "}\n",
    "\n",
    "# Perform Grid Search for Random Forest\n",
    "grid_search_rf = GridSearchCV(pipeline_rf, param_grid_rf, cv=5, scoring='accuracy')\n",
    "grid_search_rf.fit(X_resampled, y_resampled)\n",
    "\n",
    "# Best Parameters for Random Forest\n",
    "print(f\"Best Random Forest Parameters: {grid_search_rf.best_params_}\")\n",
    "\n",
    "# Use the best model found by GridSearchCV\n",
    "best_model_rf = grid_search_rf.best_estimator_\n",
    "\n",
    "# Hyperparameter grid for XGBoost\n",
    "param_grid_xgb = {\n",
    "    'model__n_estimators': [100, 200],\n",
    "    'model__learning_rate': [0.01, 0.1, 0.2],\n",
    "    'model__max_depth': [3, 5, 7],\n",
    "    'model__subsample': [0.8, 0.9, 1],\n",
    "    'model__colsample_bytree': [0.8, 0.9, 1]\n",
    "}\n",
    "\n",
    "# Building the pipeline with XGBoost\n",
    "pipeline_xgb = Pipeline([\n",
    "    ('imputer', KNNImputer(n_neighbors=5)),\n",
    "    ('scaler', StandardScaler()),\n",
    "    ('model', xgb.XGBClassifier(scale_pos_weight=1, random_state=17))\n",
    "])\n",
    "\n",
    "# Perform Grid Search for XGBoost\n",
    "grid_search_xgb = GridSearchCV(pipeline_xgb, param_grid_xgb, cv=5, scoring='accuracy')\n",
    "grid_search_xgb.fit(X_resampled, y_resampled)\n",
    "\n",
    "# Best Parameters for XGBoost\n",
    "print(f\"Best XGBoost Parameters: {grid_search_xgb.best_params_}\")\n",
    "\n",
    "# Use the best model found by GridSearchCV\n",
    "best_model_xgb = grid_search_xgb.best_estimator_\n",
    "\n",
    "# Combine Random Forest and XGBoost in a VotingClassifier\n",
    "voting_model = VotingClassifier(estimators=[('rf', best_model_rf), ('xgb', best_model_xgb)], voting='soft')\n",
    "\n",
    "# Build a pipeline with VotingClassifier\n",
    "pipeline_voting = Pipeline([\n",
    "    ('imputer', KNNImputer(n_neighbors=5)),\n",
    "    ('scaler', StandardScaler()),\n",
    "    ('model', voting_model)\n",
    "])\n",
    "\n",
    "# Train the VotingClassifier model\n",
    "pipeline_voting.fit(X_resampled, y_resampled)\n",
    "\n",
    "# Adjusting the decision threshold for better class 1 sensitivity\n",
    "threshold = 0.3\n",
    "y_probs_voting = pipeline_voting.predict_proba(X_test)[:, 1]\n",
    "y_pred_adjusted_voting = (y_probs_voting >= threshold).astype(int)\n",
    "\n",
    "# Evaluate VotingClassifier\n",
    "print(\"Voting Classifier Classification Report (adjusted threshold):\\n\", classification_report(y_test, y_pred_adjusted_voting))\n",
    "\n",
    "# Evaluating the models individually\n",
    "y_probs_rf = best_model_rf.predict_proba(X_test)[:, 1]\n",
    "y_pred_adjusted_rf = (y_probs_rf >= threshold).astype(int)\n",
    "print(\"Random Forest Classification Report (adjusted threshold):\\n\", classification_report(y_test, y_pred_adjusted_rf))\n",
    "\n",
    "y_probs_xgb = best_model_xgb.predict_proba(X_test)[:, 1]\n",
    "y_pred_adjusted_xgb = (y_probs_xgb >= threshold).astype(int)\n",
    "print(\"XGBoost Classification Report (adjusted threshold):\\n\", classification_report(y_test, y_pred_adjusted_xgb))\n"
   ]
  },
  {
   "cell_type": "markdown",
   "metadata": {},
   "source": [
    "### Analisis Model Klasifikasi Diabetes\n",
    "\n",
    "Pada model klasifikasi diabetes ini, kita memfokuskan pada pemilihan model terbaik untuk memprediksi apakah seseorang mengidap diabetes (kelas 1) atau tidak (kelas 0). Berdasarkan hasil evaluasi performa model menggunakan **Random Forest**, **XGBoost**, dan **Voting Classifier**, berikut adalah analisisnya:\n",
    "\n",
    "#### 1. **Recall untuk Kelas 1 (Diabetes)**:\n",
    "- **Random Forest** memiliki **recall tertinggi** sebesar **84%**, yang berarti model ini dapat mengidentifikasi **lebih banyak kasus diabetes** dibandingkan model lainnya. \n",
    "- Dalam konteks medis, **false negative** (kasus yang terlewat) bisa sangat berisiko, karena seseorang yang sebenarnya mengidap diabetes tidak akan mendapatkan perawatan yang diperlukan.\n",
    "- **Prioritas recall** sangat penting di sini karena kita ingin meminimalkan orang yang benar-benar mengidap diabetes tetapi tidak terdiagnosis.\n",
    "\n",
    "#### 2. **Precision untuk Kelas 1**:\n",
    "- Precision untuk **Random Forest** lebih rendah (57%) dibandingkan dengan **XGBoost** (59%) dan **Voting Classifier** (59%).\n",
    "- **Precision** mengukur berapa banyak prediksi diabetes yang benar dari seluruh prediksi diabetes yang dibuat oleh model. Precision yang lebih rendah berarti lebih banyak **false positive** (menduga seseorang mengidap diabetes padahal tidak).\n",
    "- Meskipun precision lebih rendah, dalam kasus ini **recall** lebih penting daripada precision. Ini karena mengidentifikasi sebanyak mungkin penderita diabetes (meskipun ada beberapa kesalahan dalam diagnosis) lebih penting daripada melewatkan diagnosis.\n",
    "\n",
    "#### 3. **Performa Keseluruhan**:\n",
    "- **F1-score** untuk kelas 1 hampir sama antara **Random Forest** (68%) dan **XGBoost** (68%), yang menunjukkan bahwa meskipun Random Forest sedikit lebih unggul dalam recall, kedua model ini memiliki keseimbangan antara recall dan precision yang hampir sama.\n",
    "- Namun, karena Random Forest memiliki **recall tertinggi**, maka model ini menjadi pilihan terbaik dalam hal **mengidentifikasi lebih banyak kasus diabetes**.\n",
    "\n",
    "### Pertimbangan dalam Konteks Medis:\n",
    "- Dalam kasus **diabetes**, lebih baik untuk **memprioritaskan recall** daripada precision. Ini karena lebih baik memiliki beberapa **false positive** (mendeteksi diabetes pada orang yang sebenarnya tidak mengidapnya) daripada **melewatkan penderita diabetes** yang bisa berisiko.\n",
    "- **Random Forest** dengan recall tinggi (84%) adalah pilihan yang lebih baik untuk memastikan sebanyak mungkin penderita diabetes terdeteksi dan mendapatkan penanganan yang tepat.\n",
    "\n",
    "### Kesimpulan:\n",
    "- **Pemilihan Random Forest** sudah tepat jika fokus utama adalah **meningkatkan recall** untuk mendeteksi lebih banyak penderita diabetes.\n",
    "- Meskipun ada penurunan di **precision**, **recall** yang lebih tinggi jauh lebih krusial dalam konteks medis.\n",
    "- **Perbaikan lebih lanjut** bisa dilakukan untuk meningkatkan precision jika diperlukan, misalnya dengan tuning model lebih lanjut atau mengubah threshold keputusan.\n",
    "\n"
   ]
  },
  {
   "cell_type": "markdown",
   "metadata": {},
   "source": [
    "### **Model to Pickle to Deploy on Stream Lit**"
   ]
  },
  {
   "cell_type": "code",
   "execution_count": 160,
   "metadata": {},
   "outputs": [],
   "source": [
    "import pickle\n",
    "\n",
    "# Save the best Random Forest model\n",
    "with open('best_random_forest_model.pkl', 'wb') as f:\n",
    "    pickle.dump(best_model_rf, f)\n"
   ]
  },
  {
   "cell_type": "markdown",
   "metadata": {},
   "source": [
    "### **Shap Check From Best Model** "
   ]
  },
  {
   "cell_type": "code",
   "execution_count": 185,
   "metadata": {},
   "outputs": [
    {
     "data": {
      "image/png": "[encoded data removed]",
      "text/plain": [
       "<Figure size 1000x1000 with 1 Axes>"
      ]
     },
     "metadata": {},
     "output_type": "display_data"
    }
   ],
   "source": [
    "import matplotlib.pyplot as plt\n",
    "import seaborn as sns\n",
    "import pandas as pd\n",
    "\n",
    "def plot_importance(model, features, num=len(X), save=False):\n",
    "    # Extract the RandomForest model from the pipeline\n",
    "    rf_model = model.named_steps['model']\n",
    "    \n",
    "    # Get feature importances from the RandomForest model\n",
    "    feature_imp = pd.DataFrame({'Value': rf_model.feature_importances_, 'Feature': features.columns})\n",
    "    \n",
    "    # Plot feature importances\n",
    "    plt.figure(figsize=(10, 10))  # Define the figure size\n",
    "    sns.set(font_scale=1)  # Set the font scale for readability\n",
    "    sns.barplot(x=\"Value\", y=\"Feature\", data=feature_imp.sort_values(by=\"Value\", ascending=False)[0:num])  # Plot\n",
    "    plt.title(f'Feature Importance - {rf_model.__class__.__name__}')\n",
    "    plt.tight_layout()  # Adjust layout\n",
    "    plt.show()  # Display the plot\n",
    "    \n",
    "    # Optionally save the plot\n",
    "    if save:\n",
    "        plt.savefig('importances.png')\n",
    "\n",
    "# Assuming you have already trained the `best_model_rf` pipeline, call the function\n",
    "plot_importance(best_model_rf, X)\n"
   ]
  },
  {
   "cell_type": "markdown",
   "metadata": {},
   "source": [
    "### **Checking Wrong Predictions (Manually)**"
   ]
  },
  {
   "cell_type": "markdown",
   "metadata": {},
   "source": [
    "##### **Domain Knowledge**\n",
    "\n",
    "##### Analisis Fitur untuk Prediksi Diabetes\n",
    "\n",
    "Dataset ini mencakup beberapa fitur yang berhubungan dengan risiko diabetes, dan masing-masing fitur dapat memberikan wawasan tentang kemungkinan seseorang menderita diabetes. Berikut adalah penjelasan mengenai fitur-fitur yang ada dalam dataset ini dan hubungannya dengan risiko diabetes.\n",
    "\n",
    "##### 1. **Pregnancies (Jumlah Kehamilan)**\n",
    "   - **Faktor Risiko**: Jumlah kehamilan yang tinggi, terutama yang terkait dengan gestational diabetes (diabetes yang berkembang selama kehamilan), dapat meningkatkan risiko diabetes tipe 2 di kemudian hari.\n",
    "   - **Pengaruh**: Meskipun tidak langsung berhubungan dengan diagnosis diabetes tipe 2, jumlah kehamilan yang lebih tinggi dapat memberikan petunjuk tentang potensi risiko diabetes di masa depan.\n",
    "\n",
    "##### 2. **Glucose (Kadar Glukosa Darah)**\n",
    "   - **Pengaruh Besar**: Kadar glukosa darah adalah indikator utama diabetes. Sebagai contoh:\n",
    "     - **Kadar glukosa puasa 100-125 mg/dl** menunjukkan kondisi pradiabetes.\n",
    "     - **Kadar glukosa > 126 mg/dl** pada dua kali pemeriksaan menunjukkan diabetes tipe 2.\n",
    "     - Kadar glukosa darah yang lebih tinggi, terutama pada tes toleransi glukosa (seperti 2-hour plasma glucose concentration), sering kali menunjukkan gangguan metabolisme glukosa, yang mengarah ke diabetes.\n",
    "   - **Diabetes**: Jika seseorang memiliki kadar glukosa darah yang lebih tinggi secara konsisten, ini adalah indikasi yang sangat kuat dari diabetes.\n",
    "\n",
    "##### 3. **Blood Pressure (Tekanan Darah)**\n",
    "   - **Pengaruh**: Tekanan darah tinggi (hipertensi) sangat sering terjadi pada penderita diabetes. Hipertensi dapat memperburuk komplikasi diabetes, seperti penyakit jantung atau kerusakan ginjal.\n",
    "   - **Standar**:\n",
    "     - Tekanan darah lebih dari **140/90 mm Hg** dianggap sebagai hipertensi dan merupakan faktor risiko untuk diabetes tipe 2.\n",
    "\n",
    "##### 4. **Skin Thickness (Ketebalan Kulit)**\n",
    "   - **Pengaruh**: Ketebalan kulit, terutama di sekitar area lengan, dapat berkaitan dengan resistensi insulin. Meskipun tidak sekuat faktor lainnya, ini bisa menjadi indikator untuk peningkatan lemak tubuh yang berkaitan dengan diabetes tipe 2.\n",
    "\n",
    "##### 5. **Insulin (Kadar Insulin Serum)**\n",
    "   - **Pengaruh**: Kadar insulin yang sangat tinggi dapat menunjukkan bahwa tubuh sedang berusaha keras untuk mengatasi resistensi insulin, yang merupakan ciri khas dari diabetes tipe 2. \n",
    "   - **Tingkat Normal**: Biasanya, kadar insulin serum yang rendah bisa menunjukkan bahwa tubuh kekurangan insulin, sementara kadar insulin yang sangat tinggi mengindikasikan masalah dalam pengaturan gula darah.\n",
    "\n",
    "##### 6. **Diabetes Pedigree Function (Fungsi Keturunan Diabetes)**\n",
    "   - **Pengaruh Genetik**: Ini mengukur risiko seseorang berdasarkan riwayat keluarga mereka. Jika seseorang memiliki riwayat keluarga dengan diabetes, maka risiko mereka untuk mengembangkan diabetes lebih tinggi.\n",
    "   - **Tingkat Risiko**: Jika nilai Diabetes Pedigree Function lebih tinggi, maka seseorang memiliki risiko lebih besar untuk mengidap diabetes, terutama jika ada anggota keluarga yang mengidap diabetes tipe 2.\n",
    "\n",
    "##### 7. **BMI (Body Mass Index)**\n",
    "   - **Pengaruh**: Obesitas adalah salah satu faktor risiko terbesar untuk diabetes tipe 2. BMI yang lebih tinggi berhubungan dengan peningkatan resistensi insulin.\n",
    "   - **Kriteria**:\n",
    "     - **BMI ≥ 30** menunjukkan obesitas, yang merupakan faktor risiko besar untuk diabetes tipe 2.\n",
    "     - **BMI 25-29.9** menunjukkan kelebihan berat badan, yang juga dapat meningkatkan risiko diabetes.\n",
    "     - **BMI < 25** dianggap sehat, namun risiko diabetes tetap ada jika ada faktor risiko lainnya.\n",
    "\n",
    "##### 8. **Age (Usia)**\n",
    "   - **Pengaruh**: Semakin tua usia seseorang, semakin tinggi risiko mengembangkan diabetes, terutama setelah usia 45 tahun.\n",
    "   - **Tren Umum**: Diabetes tipe 2 lebih umum pada orang yang lebih tua, tetapi dengan meningkatnya obesitas di kalangan anak muda, diabetes tipe 2 sekarang semakin banyak ditemukan pada individu yang lebih muda.\n",
    "\n",
    "##### **Kesimpulan**\n",
    "Secara keseluruhan, beberapa fitur seperti **Glucose**, **BMI**, **Age**, dan **Blood Pressure** adalah faktor yang sangat penting dalam mendiagnosis diabetes. Glukosa darah tinggi adalah indikator paling signifikan dari diabetes. Jika seseorang memiliki kadar glukosa darah yang tinggi, ditambah dengan faktor-faktor lain seperti obesitas (BMI tinggi), hipertensi, dan riwayat keluarga, maka mereka berisiko lebih besar terkena diabetes.\n",
    "\n",
    "##### **Tingkat Risiko Diabetes Berdasarkan Data:**\n",
    "- **Glucose**: > 126 mg/dL (diabetes), 100-125 mg/dL (pradiabetes)\n",
    "- **BMI**: > 30 (obesitas, risiko diabetes lebih tinggi)\n",
    "- **Blood Pressure**: > 140/90 mm Hg (hipertensi, meningkatkan risiko diabetes)\n",
    "- **Age**: Lebih dari 45 tahun (risiko meningkat seiring bertambahnya usia)\n"
   ]
  },
  {
   "cell_type": "code",
   "execution_count": 193,
   "metadata": {},
   "outputs": [
    {
     "name": "stdout",
     "output_type": "stream",
     "text": [
      "Total data yang salah diprediksi: 23 data\n",
      "Persentase data yang memenuhi domain knowledge: 95.65%\n",
      "Persentase data yang tidak memenuhi domain knowledge: 4.35%\n"
     ]
    }
   ],
   "source": [
    "# Get the predictions from the Random Forest model\n",
    "y_pred_rf = best_model_rf.predict(X_test)\n",
    "\n",
    "# Identify the wrong predictions (True positives should be class 1, false positives are class 0, etc.)\n",
    "wrong_predictions = X_test.copy()\n",
    "wrong_predictions['Actual'] = y_test\n",
    "wrong_predictions['Predicted'] = y_pred_rf\n",
    "\n",
    "# Find rows where the model's prediction was wrong\n",
    "wrong_predictions = wrong_predictions[wrong_predictions['Actual'] != wrong_predictions['Predicted']]\n",
    "\n",
    "# For class 1, look for wrong predictions where the actual value is 1 but the predicted value is 0\n",
    "wrong_class_1_predictions = wrong_predictions[(wrong_predictions['Actual'] == 1) & (wrong_predictions['Predicted'] == 0)]\n",
    "\n",
    "# Define a function to check if a row meets the domain knowledge criteria\n",
    "def check_domain_knowledge(row):\n",
    "    glucose_condition = row['GLUCOSE'] > 126\n",
    "    bmi_condition = row['BMI'] > 30\n",
    "    blood_pressure_condition = row['BLOODPRESSURE'] > 140  # Assuming single value for simplicity\n",
    "    age_condition = row['AGE'] > 45\n",
    "    \n",
    "    # Return True if the row meets any of the domain knowledge criteria\n",
    "    return glucose_condition or bmi_condition or blood_pressure_condition or age_condition\n",
    "\n",
    "# Apply the function to the 'wrong_class_1_predictions' DataFrame to identify which rows meet the conditions\n",
    "wrong_class_1_predictions['meets_domain_knowledge'] = wrong_class_1_predictions.apply(check_domain_knowledge, axis=1)\n",
    "\n",
    "# Count how many rows meet the domain knowledge conditions\n",
    "domain_knowledge_met = wrong_class_1_predictions[wrong_class_1_predictions['meets_domain_knowledge'] == True]\n",
    "domain_knowledge_not_met = wrong_class_1_predictions[wrong_class_1_predictions['meets_domain_knowledge'] == False]\n",
    "\n",
    "# Hitung total data yang salah prediksi\n",
    "total_wrong_predictions = len(wrong_class_1_predictions)\n",
    "\n",
    "# Hitung jumlah data yang memenuhi dan tidak memenuhi domain knowledge\n",
    "domain_knowledge_met_count = len(domain_knowledge_met)\n",
    "domain_knowledge_not_met_count = len(domain_knowledge_not_met)\n",
    "\n",
    "# Hitung persentase\n",
    "domain_knowledge_met_percentage = (domain_knowledge_met_count / total_wrong_predictions) * 100\n",
    "domain_knowledge_not_met_percentage = (domain_knowledge_not_met_count / total_wrong_predictions) * 100\n",
    "\n",
    "# Print hasilnya\n",
    "print(f\"Total data yang salah diprediksi: {total_wrong_predictions} data\")\n",
    "print(f\"Persentase data yang memenuhi domain knowledge: {domain_knowledge_met_percentage:.2f}%\")\n",
    "print(f\"Persentase data yang tidak memenuhi domain knowledge: {domain_knowledge_not_met_percentage:.2f}%\")"
   ]
  },
  {
   "cell_type": "markdown",
   "metadata": {},
   "source": [
    "### **Analisis Prediksi Salah Model dengan Domain Knowledge**\n",
    "\n",
    "Dalam analisis ini, kita memeriksa 23 prediksi salah dari model Random Forest yang memprediksi **class 1 (diabetes)**, namun salah memprediksi sebagai **class 0 (tidak diabetes)**. Berdasarkan **domain knowledge** mengenai faktor risiko diabetes, kita mencoba untuk mengidentifikasi apakah kondisi pada data yang salah diprediksi tersebut memenuhi kriteria yang biasanya digunakan untuk mendeteksi risiko diabetes.\n",
    "\n",
    "#### **Domain Knowledge untuk Diabetes**\n",
    "Berdasarkan data dan pengetahuan medis terkait diabetes, faktor-faktor berikut sering kali berhubungan dengan risiko diabetes:\n",
    "1. **Glucose**: Kadar glukosa darah > 126 mg/dL (diabetes), 100-125 mg/dL (pradiabetes).\n",
    "2. **BMI**: > 30 menunjukkan obesitas, yang meningkatkan risiko diabetes.\n",
    "3. **Blood Pressure**: Tekanan darah > 140/90 mm Hg, berhubungan dengan hipertensi yang meningkatkan risiko diabetes.\n",
    "4. **Age**: Usia > 45 tahun menunjukkan peningkatan risiko diabetes.\n",
    "\n",
    "#### **Temuan**\n",
    "Dari **23 prediksi salah**, berikut adalah temuan analisis terhadap data yang salah diprediksi sebagai class 0 (tidak diabetes):\n",
    "\n",
    "- **22 dari 23 data** memenuhi kriteria risiko diabetes berdasarkan **domain knowledge**. Artinya, meskipun model memprediksi mereka sebagai tidak diabetes (class 0), berdasarkan kriteria faktor risiko, mereka seharusnya memiliki kemungkinan lebih tinggi untuk mengidap diabetes.\n",
    "- **1 data** tidak memenuhi kriteria domain knowledge yang dapat digunakan untuk mendeteksi diabetes, yang berarti data tersebut mungkin tidak menunjukkan faktor risiko yang signifikan.\n",
    "\n",
    "#### **Kesimpulan**\n",
    "Model Random Forest yang digunakan menunjukkan tingkat kesalahan prediksi yang tinggi untuk individu-individu dengan kondisi risiko diabetes yang jelas. Meskipun model memberikan prediksi yang salah, mayoritas data yang salah diprediksi masih termasuk dalam kelompok berisiko tinggi untuk diabetes. Oleh karena itu, meskipun model memprediksi beberapa individu sebagai tidak berisiko, mereka sebenarnya berada dalam kategori risiko tinggi berdasarkan faktor-faktor yang sudah diketahui dalam domain medis.\n",
    "\n",
    "Ke depan, ini menunjukkan bahwa model mungkin perlu lebih sensitif dalam mengidentifikasi individu dengan faktor risiko diabetes, dan mungkin ada peluang untuk meningkatkan model agar lebih memadai dalam prediksi risiko diabetes berdasarkan kriteria tersebut.\n"
   ]
  },
  {
   "cell_type": "code",
   "execution_count": 195,
   "metadata": {},
   "outputs": [
    {
     "data": {
      "text/plain": [
       "['random_forest_model.pkl']"
      ]
     },
     "execution_count": 195,
     "metadata": {},
     "output_type": "execute_result"
    }
   ],
   "source": [
    "import joblib\n",
    "\n",
    "# Simpan model Random Forest\n",
    "joblib.dump(best_model_rf, 'random_forest_model.pkl')\n"
   ]
  }
 ],
 "metadata": {
  "kernelspec": {
   "display_name": "base",
   "language": "python",
   "name": "python3"
  },
  "language_info": {
   "codemirror_mode": {
    "name": "ipython",
    "version": 3
   },
   "file_extension": ".py",
   "mimetype": "text/x-python",
   "name": "python",
   "nbconvert_exporter": "python",
   "pygments_lexer": "ipython3",
   "version": "3.9.13"
  }
 },
 "nbformat": 4,
 "nbformat_minor": 2
}
